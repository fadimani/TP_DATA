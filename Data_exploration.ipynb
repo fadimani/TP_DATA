{
 "cells": [
  {
   "metadata": {},
   "cell_type": "markdown",
   "source": "# EXPLORING THE DUCKDB DATABASE",
   "id": "37985f400ffed10b"
  },
  {
   "metadata": {
    "ExecuteTime": {
     "end_time": "2024-11-29T12:47:04.141615Z",
     "start_time": "2024-11-29T12:47:04.063250Z"
    }
   },
   "cell_type": "code",
   "source": [
    "import duckdb\n",
    "\n",
    "duckdb_path = \"data/duckdb/mobility_analysis.duckdb\"\n",
    "connection = duckdb.connect(duckdb_path)\n",
    "\n",
    "tables = connection.execute(\"SHOW TABLES\").fetchall()\n",
    "# Print the tables\n",
    "print(\"Tables in the database:\", tables)\n"
   ],
   "id": "e0edb3bc2acc4f1e",
   "outputs": [
    {
     "name": "stdout",
     "output_type": "stream",
     "text": [
      "Tables in the database: [('CONSOLIDATE_CITY',), ('CONSOLIDATE_STATION',), ('CONSOLIDATE_STATION_STATEMENT',), ('DIM_CITY',), ('DIM_STATION',), ('FACT_STATION_STATEMENT',)]\n"
     ]
    }
   ],
   "execution_count": 1
  },
  {
   "metadata": {
    "ExecuteTime": {
     "end_time": "2024-11-29T12:47:08.164331Z",
     "start_time": "2024-11-29T12:47:07.786838Z"
    }
   },
   "cell_type": "code",
   "source": [
    "data = connection.execute(\"SELECT * FROM CONSOLIDATE_STATION_STATEMENT\").fetchdf()\n",
    "data"
   ],
   "id": "2e7c4e895e54e5f7",
   "outputs": [
    {
     "data": {
      "text/plain": [
       "     STATION_ID  BICYCLE_DOCKS_AVAILABLE  BICYCLE_AVAILABLE  \\\n",
       "0       1-16107                       33                  2   \n",
       "1       1-44015                        9                 11   \n",
       "2       1-14014                       53                  4   \n",
       "3        1-9020                       17                  3   \n",
       "4       1-11104                       20                  0   \n",
       "...         ...                      ...                ...   \n",
       "1680       3-34                       20                  2   \n",
       "1681      3-240                       15                  3   \n",
       "1682      3-275                       12                  2   \n",
       "1683       3-18                        1                 20   \n",
       "1684      3-117                       11                  9   \n",
       "\n",
       "     LAST_STATEMENT_DATE CREATED_DATE  \n",
       "0             2024-11-29   2024-11-29  \n",
       "1             2024-11-29   2024-11-29  \n",
       "2             2024-11-29   2024-11-29  \n",
       "3             2024-11-29   2024-11-29  \n",
       "4             2024-11-29   2024-11-29  \n",
       "...                  ...          ...  \n",
       "1680          2024-11-29   2024-11-29  \n",
       "1681          2024-11-29   2024-11-29  \n",
       "1682          2024-11-29   2024-11-29  \n",
       "1683          2024-11-29   2024-11-29  \n",
       "1684          2024-11-29   2024-11-29  \n",
       "\n",
       "[1685 rows x 5 columns]"
      ],
      "text/html": [
       "<div>\n",
       "<style scoped>\n",
       "    .dataframe tbody tr th:only-of-type {\n",
       "        vertical-align: middle;\n",
       "    }\n",
       "\n",
       "    .dataframe tbody tr th {\n",
       "        vertical-align: top;\n",
       "    }\n",
       "\n",
       "    .dataframe thead th {\n",
       "        text-align: right;\n",
       "    }\n",
       "</style>\n",
       "<table border=\"1\" class=\"dataframe\">\n",
       "  <thead>\n",
       "    <tr style=\"text-align: right;\">\n",
       "      <th></th>\n",
       "      <th>STATION_ID</th>\n",
       "      <th>BICYCLE_DOCKS_AVAILABLE</th>\n",
       "      <th>BICYCLE_AVAILABLE</th>\n",
       "      <th>LAST_STATEMENT_DATE</th>\n",
       "      <th>CREATED_DATE</th>\n",
       "    </tr>\n",
       "  </thead>\n",
       "  <tbody>\n",
       "    <tr>\n",
       "      <th>0</th>\n",
       "      <td>1-16107</td>\n",
       "      <td>33</td>\n",
       "      <td>2</td>\n",
       "      <td>2024-11-29</td>\n",
       "      <td>2024-11-29</td>\n",
       "    </tr>\n",
       "    <tr>\n",
       "      <th>1</th>\n",
       "      <td>1-44015</td>\n",
       "      <td>9</td>\n",
       "      <td>11</td>\n",
       "      <td>2024-11-29</td>\n",
       "      <td>2024-11-29</td>\n",
       "    </tr>\n",
       "    <tr>\n",
       "      <th>2</th>\n",
       "      <td>1-14014</td>\n",
       "      <td>53</td>\n",
       "      <td>4</td>\n",
       "      <td>2024-11-29</td>\n",
       "      <td>2024-11-29</td>\n",
       "    </tr>\n",
       "    <tr>\n",
       "      <th>3</th>\n",
       "      <td>1-9020</td>\n",
       "      <td>17</td>\n",
       "      <td>3</td>\n",
       "      <td>2024-11-29</td>\n",
       "      <td>2024-11-29</td>\n",
       "    </tr>\n",
       "    <tr>\n",
       "      <th>4</th>\n",
       "      <td>1-11104</td>\n",
       "      <td>20</td>\n",
       "      <td>0</td>\n",
       "      <td>2024-11-29</td>\n",
       "      <td>2024-11-29</td>\n",
       "    </tr>\n",
       "    <tr>\n",
       "      <th>...</th>\n",
       "      <td>...</td>\n",
       "      <td>...</td>\n",
       "      <td>...</td>\n",
       "      <td>...</td>\n",
       "      <td>...</td>\n",
       "    </tr>\n",
       "    <tr>\n",
       "      <th>1680</th>\n",
       "      <td>3-34</td>\n",
       "      <td>20</td>\n",
       "      <td>2</td>\n",
       "      <td>2024-11-29</td>\n",
       "      <td>2024-11-29</td>\n",
       "    </tr>\n",
       "    <tr>\n",
       "      <th>1681</th>\n",
       "      <td>3-240</td>\n",
       "      <td>15</td>\n",
       "      <td>3</td>\n",
       "      <td>2024-11-29</td>\n",
       "      <td>2024-11-29</td>\n",
       "    </tr>\n",
       "    <tr>\n",
       "      <th>1682</th>\n",
       "      <td>3-275</td>\n",
       "      <td>12</td>\n",
       "      <td>2</td>\n",
       "      <td>2024-11-29</td>\n",
       "      <td>2024-11-29</td>\n",
       "    </tr>\n",
       "    <tr>\n",
       "      <th>1683</th>\n",
       "      <td>3-18</td>\n",
       "      <td>1</td>\n",
       "      <td>20</td>\n",
       "      <td>2024-11-29</td>\n",
       "      <td>2024-11-29</td>\n",
       "    </tr>\n",
       "    <tr>\n",
       "      <th>1684</th>\n",
       "      <td>3-117</td>\n",
       "      <td>11</td>\n",
       "      <td>9</td>\n",
       "      <td>2024-11-29</td>\n",
       "      <td>2024-11-29</td>\n",
       "    </tr>\n",
       "  </tbody>\n",
       "</table>\n",
       "<p>1685 rows × 5 columns</p>\n",
       "</div>"
      ]
     },
     "execution_count": 2,
     "metadata": {},
     "output_type": "execute_result"
    }
   ],
   "execution_count": 2
  },
  {
   "metadata": {},
   "cell_type": "markdown",
   "source": "# VALIDATION",
   "id": "4378bcb6b6e12047"
  },
  {
   "metadata": {
    "ExecuteTime": {
     "end_time": "2024-11-29T12:47:10.812501Z",
     "start_time": "2024-11-29T12:47:10.775144Z"
    }
   },
   "cell_type": "code",
   "source": [
    "import duckdb\n",
    "\n",
    "duckdb_path = \"data/duckdb/mobility_analysis.duckdb\"\n",
    "connection = duckdb.connect(duckdb_path)\n",
    "\n",
    "\n",
    "sql1 = \"\"\"SELECT dm.NAME, tmp.SUM_BICYCLE_DOCKS_AVAILABLE\n",
    "FROM DIM_CITY dm INNER JOIN (\n",
    "    SELECT CITY_ID, SUM(BICYCLE_DOCKS_AVAILABLE) AS SUM_BICYCLE_DOCKS_AVAILABLE\n",
    "    FROM FACT_STATION_STATEMENT\n",
    "    WHERE CREATED_DATE = (SELECT MAX(CREATED_DATE) FROM CONSOLIDATE_STATION)\n",
    "    GROUP BY CITY_ID\n",
    ") tmp ON dm.ID = tmp.CITY_ID\n",
    "WHERE lower(dm.NAME) in ('paris', 'nantes', 'vincennes', 'toulouse');\"\"\"\n",
    "\n",
    "data = connection.execute(sql1).fetchall()\n",
    "data\n",
    "\n",
    "\n"
   ],
   "id": "cb6b607bea755134",
   "outputs": [
    {
     "data": {
      "text/plain": [
       "[('Toulouse', 1254), ('Nantes', 1210), ('Paris', 18544), ('Vincennes', 214)]"
      ]
     },
     "execution_count": 3,
     "metadata": {},
     "output_type": "execute_result"
    }
   ],
   "execution_count": 3
  },
  {
   "metadata": {
    "ExecuteTime": {
     "end_time": "2024-11-29T12:47:12.681628Z",
     "start_time": "2024-11-29T12:47:12.662669Z"
    }
   },
   "cell_type": "code",
   "source": [
    "sql2 = \"\"\"SELECT ds.name, ds.code, ds.address, tmp.avg_dock_available\n",
    "FROM DIM_STATION ds JOIN (\n",
    "    SELECT station_id, AVG(BICYCLE_AVAILABLE) AS avg_dock_available\n",
    "    FROM FACT_STATION_STATEMENT\n",
    "    GROUP BY station_id\n",
    ") AS tmp ON ds.id = tmp.station_id;\"\"\"\n",
    "\n",
    "data = connection.execute(sql1).fetchall()\n",
    "data"
   ],
   "id": "39340bf7a4b8cd2",
   "outputs": [
    {
     "data": {
      "text/plain": [
       "[('Toulouse', 1254), ('Nantes', 1210), ('Paris', 18544), ('Vincennes', 214)]"
      ]
     },
     "execution_count": 4,
     "metadata": {},
     "output_type": "execute_result"
    }
   ],
   "execution_count": 4
  }
 ],
 "metadata": {
  "kernelspec": {
   "display_name": "Python 3",
   "language": "python",
   "name": "python3"
  },
  "language_info": {
   "codemirror_mode": {
    "name": "ipython",
    "version": 2
   },
   "file_extension": ".py",
   "mimetype": "text/x-python",
   "name": "python",
   "nbconvert_exporter": "python",
   "pygments_lexer": "ipython2",
   "version": "2.7.6"
  }
 },
 "nbformat": 4,
 "nbformat_minor": 5
}
